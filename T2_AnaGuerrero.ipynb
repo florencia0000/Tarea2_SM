{
 "cells": [
  {
   "cell_type": "markdown",
   "metadata": {},
   "source": [
    "# 5 RAZONES POR LAS QUE DEBERÍAS APRENDER PYTHON AHORA\n",
    "## ¿python es útil?\n",
    "Python es fácil de usar, potente y versátil, lo que lo convierte en una excelente opción tanto para principiantes como para expertos. le permite pensar como un programador y no perder el tiempo con una sintaxis confusa. \n",
    "La configuración mínima es otra de las ventajas de Python. Si está en una Mac, simplemente abra el programa Terminal, escriba \"python\" y presione Intro.  \n",
    " En lugar de concentrarse en cómo hacer que su código se ejecute, podrá concentrarse en aprender conceptos de programación reales. Y una vez que tenga esas herramientas en su haber, si pasa a otros idiomas, podrá comprender fácilmente un fragmento de código determinado.\n",
    "Pero no crea que, dado que Python es fácil de usar, es un lenguaje débil. Python es increíblemente poderoso: hay una razón por la que empresas como Google, Dropbox, Spotify y Netflix lo usan.   \n",
    "El  cliente de escritorio de Dropbox  está escrito completamente en Python, lo que habla de su compatibilidad multiplataforma.\n",
    "Google usa una combinación de lenguajes, con C ++, Python y ahora Go entre ellos. Al principio, en Google, hubo una  decisión de ingeniería  de utilizar \"Python donde podamos, C ++ donde debemos\". Python se utilizó para piezas que requerían una entrega y un mantenimiento rápidos. Luego, usaron C ++ para las partes de la pila de software donde era importante tener una latencia muy baja y / o un control estricto de la memoria.  \n",
    "Spotify usa mucho Java, pero usa Python para cosas como su API web y su  consola API interactiva , que permite a los desarrolladores explorar los puntos finales con una interfaz fácil de usar. Spotify también usa Python para el análisis de datos y otros procesos que no están orientados al cliente.\n",
    "Netflix utiliza una combinación de Java, Scala y Python, y  brinda a los desarrolladores autonomía  para elegir qué idioma se adapta mejor al problema. \n",
    "\n",
    "\n"
   ]
  },
  {
   "cell_type": "markdown",
   "metadata": {},
   "source": [
    "# Python se está convirtiendo en el lenguaje de codificación más popular del mundo\n",
    "En los últimos 12 meses, los estadounidenses han buscado Python en Google con más frecuencia que Kim Kardashian, una estrella de reality shows. La cantidad de consultas se ha triplicado desde 2010, mientras que las de otros lenguajes de programación importantes se han estancado o han disminuido.\n",
    "Las dos principales ventajas del idioma son su simplicidad y flexibilidad. Su sintaxis sencilla y el uso de espacios con sangría hacen que sea fácil de aprender, leer y compartir.\n",
    "Con una base de usuarios en crecimiento tan rápido y una amplia gama de capacidades, Python podría parecer destinado a convertirse en la lengua franca de la codificación, dejando obsoletos a todos los demás competidores.\n",
    "Python no reemplazará a C y C ++, que son \"opciones de nivel inferior\" que le dan al usuario más control sobre lo que sucede en el procesador de una computadora. Tampoco acabará con Java, que es popular para crear aplicaciones complicadas, o JavaScript, que impulsa la mayoría de las páginas web."
   ]
  }
 ],
 "metadata": {
  "kernelspec": {
   "display_name": "Python 3",
   "language": "python",
   "name": "python3"
  },
  "language_info": {
   "codemirror_mode": {
    "name": "ipython",
    "version": 3
   },
   "file_extension": ".py",
   "mimetype": "text/x-python",
   "name": "python",
   "nbconvert_exporter": "python",
   "pygments_lexer": "ipython3",
   "version": "3.8.3"
  }
 },
 "nbformat": 4,
 "nbformat_minor": 4
}
